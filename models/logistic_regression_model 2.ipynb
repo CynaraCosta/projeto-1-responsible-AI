{
 "cells": [
  {
   "cell_type": "code",
   "execution_count": 19,
   "metadata": {},
   "outputs": [],
   "source": [
    "import numpy as np\n",
    "import pandas as pd\n",
    "import matplotlib.pyplot as plt\n",
    "from sklearn.model_selection import train_test_split\n",
    "from sklearn.linear_model import LogisticRegression\n",
    "from sklearn.metrics import accuracy_score, classification_report, confusion_matrix, ConfusionMatrixDisplay\n",
    "from sklearn.inspection import permutation_importance\n",
    "from sklearn.metrics import precision_score\n",
    "from sklearn.metrics import recall_score\n",
    "from sklearn.metrics import f1_score\n",
    "from sklearn.metrics import precision_recall_curve\n",
    "from sklearn.metrics import average_precision_score\n",
    "from sklearn.metrics import classification_report\n",
    "from imblearn.over_sampling import SMOTE\n",
    "\n",
    "TREATED_DATASET = '../dataset/fake_job_word2vec.csv'"
   ]
  },
  {
   "cell_type": "code",
   "execution_count": 10,
   "metadata": {},
   "outputs": [],
   "source": [
    "import pickle\n",
    "\n",
    "# Carregar o DataFrame com pickle\n",
    "with open('../dataset/fake_job_word2vec.pkl', 'rb') as f:\n",
    "    data = pickle.load(f)"
   ]
  },
  {
   "cell_type": "code",
   "execution_count": 11,
   "metadata": {},
   "outputs": [
    {
     "data": {
      "text/html": [
       "<div>\n",
       "<style scoped>\n",
       "    .dataframe tbody tr th:only-of-type {\n",
       "        vertical-align: middle;\n",
       "    }\n",
       "\n",
       "    .dataframe tbody tr th {\n",
       "        vertical-align: top;\n",
       "    }\n",
       "\n",
       "    .dataframe thead th {\n",
       "        text-align: right;\n",
       "    }\n",
       "</style>\n",
       "<table border=\"1\" class=\"dataframe\">\n",
       "  <thead>\n",
       "    <tr style=\"text-align: right;\">\n",
       "      <th></th>\n",
       "      <th>telecommuting</th>\n",
       "      <th>has_company_logo</th>\n",
       "      <th>has_questions</th>\n",
       "      <th>fraudulent</th>\n",
       "      <th>salary_min</th>\n",
       "      <th>salary_max</th>\n",
       "      <th>employment_type_-</th>\n",
       "      <th>employment_type_Contract</th>\n",
       "      <th>employment_type_Full-time</th>\n",
       "      <th>employment_type_Other</th>\n",
       "      <th>...</th>\n",
       "      <th>required_education_Vocational - HS Diploma</th>\n",
       "      <th>title_vector</th>\n",
       "      <th>location_vector</th>\n",
       "      <th>department_vector</th>\n",
       "      <th>company_profile_vector</th>\n",
       "      <th>description_vector</th>\n",
       "      <th>requirements_vector</th>\n",
       "      <th>benefits_vector</th>\n",
       "      <th>industry_vector</th>\n",
       "      <th>function_vector</th>\n",
       "    </tr>\n",
       "  </thead>\n",
       "  <tbody>\n",
       "    <tr>\n",
       "      <th>0</th>\n",
       "      <td>0</td>\n",
       "      <td>1</td>\n",
       "      <td>0</td>\n",
       "      <td>0</td>\n",
       "      <td>0</td>\n",
       "      <td>0</td>\n",
       "      <td>0</td>\n",
       "      <td>0</td>\n",
       "      <td>0</td>\n",
       "      <td>1</td>\n",
       "      <td>...</td>\n",
       "      <td>0</td>\n",
       "      <td>[-0.84525394, -0.18185475, 0.6994233, 1.819068...</td>\n",
       "      <td>[0.09093219, 1.1964487, -2.2067819, 0.9726109,...</td>\n",
       "      <td>[-0.82723045, -1.0614119, 2.1088731, 3.5304492...</td>\n",
       "      <td>[-0.711043, 0.2946177, -0.29541782, 0.18943201...</td>\n",
       "      <td>[-0.6586604, 0.7360017, -0.26968998, 0.6841621...</td>\n",
       "      <td>[-0.21637158, 0.67470396, 0.08782808, 0.196237...</td>\n",
       "      <td>[0.0, 0.0, 0.0, 0.0, 0.0, 0.0, 0.0, 0.0, 0.0, ...</td>\n",
       "      <td>[0.0, 0.0, 0.0, 0.0, 0.0, 0.0, 0.0, 0.0, 0.0, ...</td>\n",
       "      <td>[-0.82723045, -1.0614119, 2.1088731, 3.5304492...</td>\n",
       "    </tr>\n",
       "    <tr>\n",
       "      <th>1</th>\n",
       "      <td>0</td>\n",
       "      <td>1</td>\n",
       "      <td>0</td>\n",
       "      <td>0</td>\n",
       "      <td>0</td>\n",
       "      <td>0</td>\n",
       "      <td>0</td>\n",
       "      <td>0</td>\n",
       "      <td>1</td>\n",
       "      <td>0</td>\n",
       "      <td>...</td>\n",
       "      <td>0</td>\n",
       "      <td>[0.6677264, 1.1746644, 0.7818688, 0.021744847,...</td>\n",
       "      <td>[-0.11701747, 0.98648447, -0.70229155, 0.22006...</td>\n",
       "      <td>[-3.57316, 1.0816542, 0.40557733, 1.2263387, -...</td>\n",
       "      <td>[-0.5568471, 0.46270373, 0.46705392, -0.130891...</td>\n",
       "      <td>[-0.3889452, 0.6246517, 0.1548443, 0.22980177,...</td>\n",
       "      <td>[-0.19320303, 0.75636166, 0.26312044, 0.356866...</td>\n",
       "      <td>[-0.2636343, 0.659767, 0.11539761, 0.2148898, ...</td>\n",
       "      <td>[-1.7466006, -0.041971684, 1.1013478, 2.607851...</td>\n",
       "      <td>[0.30603668, 1.1551279, 0.23127906, 1.0180255,...</td>\n",
       "    </tr>\n",
       "    <tr>\n",
       "      <th>2</th>\n",
       "      <td>0</td>\n",
       "      <td>1</td>\n",
       "      <td>0</td>\n",
       "      <td>0</td>\n",
       "      <td>0</td>\n",
       "      <td>0</td>\n",
       "      <td>1</td>\n",
       "      <td>0</td>\n",
       "      <td>0</td>\n",
       "      <td>0</td>\n",
       "      <td>...</td>\n",
       "      <td>0</td>\n",
       "      <td>[-0.83985394, 0.13102812, -0.5154955, 0.820037...</td>\n",
       "      <td>[0.55869263, 0.37951723, -0.50967145, 0.108177...</td>\n",
       "      <td>[0.0, 0.0, 0.0, 0.0, 0.0, 0.0, 0.0, 0.0, 0.0, ...</td>\n",
       "      <td>[-1.1110485, -0.03975634, -0.5365781, 0.190385...</td>\n",
       "      <td>[-0.38722867, -0.7216357, -0.059794698, 0.6568...</td>\n",
       "      <td>[-0.71245915, 0.62866694, -0.0006886383, 0.402...</td>\n",
       "      <td>[0.0, 0.0, 0.0, 0.0, 0.0, 0.0, 0.0, 0.0, 0.0, ...</td>\n",
       "      <td>[0.0, 0.0, 0.0, 0.0, 0.0, 0.0, 0.0, 0.0, 0.0, ...</td>\n",
       "      <td>[0.0, 0.0, 0.0, 0.0, 0.0, 0.0, 0.0, 0.0, 0.0, ...</td>\n",
       "    </tr>\n",
       "    <tr>\n",
       "      <th>3</th>\n",
       "      <td>0</td>\n",
       "      <td>1</td>\n",
       "      <td>0</td>\n",
       "      <td>0</td>\n",
       "      <td>0</td>\n",
       "      <td>0</td>\n",
       "      <td>0</td>\n",
       "      <td>0</td>\n",
       "      <td>1</td>\n",
       "      <td>0</td>\n",
       "      <td>...</td>\n",
       "      <td>0</td>\n",
       "      <td>[-0.6763156, 0.74618936, -1.655303, 2.0162556,...</td>\n",
       "      <td>[0.72864026, 0.99891824, -1.4054223, 1.05736, ...</td>\n",
       "      <td>[1.8737859, -0.5436919, -1.6310282, 3.146639, ...</td>\n",
       "      <td>[-0.19833423, -0.33683726, 0.46237862, -0.4979...</td>\n",
       "      <td>[-0.30805734, 0.44491237, 0.20117281, 0.381490...</td>\n",
       "      <td>[0.20679735, 0.38584527, 0.1653388, 0.49131846...</td>\n",
       "      <td>[-0.018238794, -0.0035780254, 0.055408392, -0....</td>\n",
       "      <td>[3.1612725, 0.36362112, -0.77692676, 0.7009644...</td>\n",
       "      <td>[1.8737859, -0.5436919, -1.6310282, 3.146639, ...</td>\n",
       "    </tr>\n",
       "    <tr>\n",
       "      <th>4</th>\n",
       "      <td>0</td>\n",
       "      <td>1</td>\n",
       "      <td>1</td>\n",
       "      <td>0</td>\n",
       "      <td>0</td>\n",
       "      <td>0</td>\n",
       "      <td>0</td>\n",
       "      <td>0</td>\n",
       "      <td>1</td>\n",
       "      <td>0</td>\n",
       "      <td>...</td>\n",
       "      <td>0</td>\n",
       "      <td>[-1.8301481, 0.9306405, -0.6256303, -0.0895560...</td>\n",
       "      <td>[0.072459996, 0.07980336, -1.2065592, 0.398709...</td>\n",
       "      <td>[0.0, 0.0, 0.0, 0.0, 0.0, 0.0, 0.0, 0.0, 0.0, ...</td>\n",
       "      <td>[-0.21203305, 0.22003247, -0.017210696, 0.7602...</td>\n",
       "      <td>[-0.5960806, 0.34076518, -0.10837317, 0.065871...</td>\n",
       "      <td>[0.32855195, 0.37795225, 0.26757485, 0.3718151...</td>\n",
       "      <td>[-2.0897202, -0.659609, 0.5348242, -0.18022855...</td>\n",
       "      <td>[-2.1138844, -0.15772685, -0.17443557, 2.09698...</td>\n",
       "      <td>[-1.4847593, 0.55348533, 0.45036742, 2.665693,...</td>\n",
       "    </tr>\n",
       "  </tbody>\n",
       "</table>\n",
       "<p>5 rows × 43 columns</p>\n",
       "</div>"
      ],
      "text/plain": [
       "   telecommuting  has_company_logo  has_questions  fraudulent  salary_min  \\\n",
       "0              0                 1              0           0           0   \n",
       "1              0                 1              0           0           0   \n",
       "2              0                 1              0           0           0   \n",
       "3              0                 1              0           0           0   \n",
       "4              0                 1              1           0           0   \n",
       "\n",
       "   salary_max  employment_type_-  employment_type_Contract  \\\n",
       "0           0                  0                         0   \n",
       "1           0                  0                         0   \n",
       "2           0                  1                         0   \n",
       "3           0                  0                         0   \n",
       "4           0                  0                         0   \n",
       "\n",
       "   employment_type_Full-time  employment_type_Other  ...  \\\n",
       "0                          0                      1  ...   \n",
       "1                          1                      0  ...   \n",
       "2                          0                      0  ...   \n",
       "3                          1                      0  ...   \n",
       "4                          1                      0  ...   \n",
       "\n",
       "   required_education_Vocational - HS Diploma  \\\n",
       "0                                           0   \n",
       "1                                           0   \n",
       "2                                           0   \n",
       "3                                           0   \n",
       "4                                           0   \n",
       "\n",
       "                                        title_vector  \\\n",
       "0  [-0.84525394, -0.18185475, 0.6994233, 1.819068...   \n",
       "1  [0.6677264, 1.1746644, 0.7818688, 0.021744847,...   \n",
       "2  [-0.83985394, 0.13102812, -0.5154955, 0.820037...   \n",
       "3  [-0.6763156, 0.74618936, -1.655303, 2.0162556,...   \n",
       "4  [-1.8301481, 0.9306405, -0.6256303, -0.0895560...   \n",
       "\n",
       "                                     location_vector  \\\n",
       "0  [0.09093219, 1.1964487, -2.2067819, 0.9726109,...   \n",
       "1  [-0.11701747, 0.98648447, -0.70229155, 0.22006...   \n",
       "2  [0.55869263, 0.37951723, -0.50967145, 0.108177...   \n",
       "3  [0.72864026, 0.99891824, -1.4054223, 1.05736, ...   \n",
       "4  [0.072459996, 0.07980336, -1.2065592, 0.398709...   \n",
       "\n",
       "                                   department_vector  \\\n",
       "0  [-0.82723045, -1.0614119, 2.1088731, 3.5304492...   \n",
       "1  [-3.57316, 1.0816542, 0.40557733, 1.2263387, -...   \n",
       "2  [0.0, 0.0, 0.0, 0.0, 0.0, 0.0, 0.0, 0.0, 0.0, ...   \n",
       "3  [1.8737859, -0.5436919, -1.6310282, 3.146639, ...   \n",
       "4  [0.0, 0.0, 0.0, 0.0, 0.0, 0.0, 0.0, 0.0, 0.0, ...   \n",
       "\n",
       "                              company_profile_vector  \\\n",
       "0  [-0.711043, 0.2946177, -0.29541782, 0.18943201...   \n",
       "1  [-0.5568471, 0.46270373, 0.46705392, -0.130891...   \n",
       "2  [-1.1110485, -0.03975634, -0.5365781, 0.190385...   \n",
       "3  [-0.19833423, -0.33683726, 0.46237862, -0.4979...   \n",
       "4  [-0.21203305, 0.22003247, -0.017210696, 0.7602...   \n",
       "\n",
       "                                  description_vector  \\\n",
       "0  [-0.6586604, 0.7360017, -0.26968998, 0.6841621...   \n",
       "1  [-0.3889452, 0.6246517, 0.1548443, 0.22980177,...   \n",
       "2  [-0.38722867, -0.7216357, -0.059794698, 0.6568...   \n",
       "3  [-0.30805734, 0.44491237, 0.20117281, 0.381490...   \n",
       "4  [-0.5960806, 0.34076518, -0.10837317, 0.065871...   \n",
       "\n",
       "                                 requirements_vector  \\\n",
       "0  [-0.21637158, 0.67470396, 0.08782808, 0.196237...   \n",
       "1  [-0.19320303, 0.75636166, 0.26312044, 0.356866...   \n",
       "2  [-0.71245915, 0.62866694, -0.0006886383, 0.402...   \n",
       "3  [0.20679735, 0.38584527, 0.1653388, 0.49131846...   \n",
       "4  [0.32855195, 0.37795225, 0.26757485, 0.3718151...   \n",
       "\n",
       "                                     benefits_vector  \\\n",
       "0  [0.0, 0.0, 0.0, 0.0, 0.0, 0.0, 0.0, 0.0, 0.0, ...   \n",
       "1  [-0.2636343, 0.659767, 0.11539761, 0.2148898, ...   \n",
       "2  [0.0, 0.0, 0.0, 0.0, 0.0, 0.0, 0.0, 0.0, 0.0, ...   \n",
       "3  [-0.018238794, -0.0035780254, 0.055408392, -0....   \n",
       "4  [-2.0897202, -0.659609, 0.5348242, -0.18022855...   \n",
       "\n",
       "                                     industry_vector  \\\n",
       "0  [0.0, 0.0, 0.0, 0.0, 0.0, 0.0, 0.0, 0.0, 0.0, ...   \n",
       "1  [-1.7466006, -0.041971684, 1.1013478, 2.607851...   \n",
       "2  [0.0, 0.0, 0.0, 0.0, 0.0, 0.0, 0.0, 0.0, 0.0, ...   \n",
       "3  [3.1612725, 0.36362112, -0.77692676, 0.7009644...   \n",
       "4  [-2.1138844, -0.15772685, -0.17443557, 2.09698...   \n",
       "\n",
       "                                     function_vector  \n",
       "0  [-0.82723045, -1.0614119, 2.1088731, 3.5304492...  \n",
       "1  [0.30603668, 1.1551279, 0.23127906, 1.0180255,...  \n",
       "2  [0.0, 0.0, 0.0, 0.0, 0.0, 0.0, 0.0, 0.0, 0.0, ...  \n",
       "3  [1.8737859, -0.5436919, -1.6310282, 3.146639, ...  \n",
       "4  [-1.4847593, 0.55348533, 0.45036742, 2.665693,...  \n",
       "\n",
       "[5 rows x 43 columns]"
      ]
     },
     "execution_count": 11,
     "metadata": {},
     "output_type": "execute_result"
    }
   ],
   "source": [
    "data.head()"
   ]
  },
  {
   "cell_type": "code",
   "execution_count": 14,
   "metadata": {},
   "outputs": [],
   "source": [
    "colums_to_drop = ['fraudulent']\n",
    "\n",
    "X = data.drop(columns=colums_to_drop)\n",
    "Y = data['fraudulent']"
   ]
  },
  {
   "cell_type": "code",
   "execution_count": 16,
   "metadata": {},
   "outputs": [],
   "source": [
    "sm = SMOTE(random_state=42, k_neighbors=5)\n",
    "X_res, y_res = sm.fit_resample(X, Y)"
   ]
  },
  {
   "cell_type": "code",
   "execution_count": 17,
   "metadata": {},
   "outputs": [],
   "source": [
    "X_train, X_test, Y_train, Y_test = train_test_split(X_res, y_res, test_size=0.25)"
   ]
  },
  {
   "cell_type": "markdown",
   "metadata": {},
   "source": [
    "### Logistic Regression"
   ]
  },
  {
   "cell_type": "code",
   "execution_count": 20,
   "metadata": {},
   "outputs": [],
   "source": [
    "logistic_regression = LogisticRegression(max_iter=1000) \n",
    "logistic_regression.fit(X_train, Y_train)\n",
    "\n",
    "# Predict on the testing set\n",
    "y_pred = logistic_regression.predict(X_test)"
   ]
  },
  {
   "cell_type": "code",
   "execution_count": 22,
   "metadata": {},
   "outputs": [
    {
     "name": "stdout",
     "output_type": "stream",
     "text": [
      "has_company_logo                        0.103100\n",
      "salary_max                              0.054382\n",
      "has_questions                           0.041609\n",
      "required_experience_-                   0.017182\n",
      "required_education_Bachelor's Degree    0.016274\n",
      "required_education_-                    0.016044\n",
      "required_experience_Mid-Senior level    0.008033\n",
      "salary_min                              0.005782\n",
      "function_vector                         0.005079\n",
      "required_experience_Associate           0.004171\n",
      "dtype: float64\n"
     ]
    },
    {
     "data": {
      "image/png": "[encoded data removed]",
      "text/plain": [
       "<Figure size 432x288 with 1 Axes>"
      ]
     },
     "metadata": {
      "needs_background": "light"
     },
     "output_type": "display_data"
    }
   ],
   "source": [
    "from sklearn.inspection import permutation_importance\n",
    "import matplotlib.pyplot as plt\n",
    "\n",
    "result = permutation_importance(logistic_regression, X_test, Y_test,n_repeats=100, random_state=0)\n",
    "\n",
    "forest_importances = pd.Series(result.importances_mean, index=X.columns)\n",
    "\n",
    "forest_importances_sorted = forest_importances.sort_values(ascending=False)\n",
    "\n",
    "# Selecionar as 10 features mais importantes\n",
    "top_10_features = forest_importances_sorted.head(10)\n",
    "print(top_10_features)\n",
    "top_10_indices = [X_test.columns.get_loc(col) for col in top_10_features.index]\n",
    "top_10_std = result.importances_std[top_10_indices]\n",
    "\n",
    "# Plotar as 10 features mais importantes\n",
    "fig, ax = plt.subplots()\n",
    "top_10_features.plot.bar(yerr=top_10_std, ax=ax)\n",
    "ax.set_title(\"Feature importances using permutation on full model\")\n",
    "ax.set_ylabel(\"Mean accuracy decrease\")\n",
    "fig.tight_layout()\n",
    "plt.show()"
   ]
  },
  {
   "cell_type": "markdown",
   "metadata": {},
   "source": [
    "Confusion Matrix"
   ]
  },
  {
   "cell_type": "code",
   "execution_count": 23,
   "metadata": {},
   "outputs": [
    {
     "name": "stdout",
     "output_type": "stream",
     "text": [
      "Acurácia dos dados de teste:  0.6712119431056777\n",
      "\n"
     ]
    },
    {
     "data": {
      "image/png": "[encoded data removed]",
      "text/plain": [
       "<Figure size 432x288 with 2 Axes>"
      ]
     },
     "metadata": {
      "needs_background": "light"
     },
     "output_type": "display_data"
    }
   ],
   "source": [
    "y_pred = logistic_regression.predict(X_test)\n",
    "\n",
    "print(\"Acurácia dos dados de teste: \", accuracy_score(Y_test,y_pred))\n",
    "print()\n",
    "\n",
    "cm = confusion_matrix(Y_test, y_pred)\n",
    "\n",
    "disp = ConfusionMatrixDisplay(confusion_matrix=cm, display_labels=logistic_regression.classes_)\n",
    "\n",
    "disp.plot()\n",
    "\n",
    "plt.show()"
   ]
  },
  {
   "cell_type": "markdown",
   "metadata": {},
   "source": [
    "## Evaluation Metrics"
   ]
  },
  {
   "cell_type": "markdown",
   "metadata": {},
   "source": [
    "Precision"
   ]
  },
  {
   "cell_type": "code",
   "execution_count": 24,
   "metadata": {},
   "outputs": [],
   "source": [
    "precision_score_number = precision_score(Y_test, y_pred)"
   ]
  },
  {
   "cell_type": "markdown",
   "metadata": {},
   "source": [
    "Recall"
   ]
  },
  {
   "cell_type": "code",
   "execution_count": 25,
   "metadata": {},
   "outputs": [],
   "source": [
    "recall_score_number = recall_score(Y_test, y_pred)"
   ]
  },
  {
   "cell_type": "markdown",
   "metadata": {},
   "source": [
    "F1-Score"
   ]
  },
  {
   "cell_type": "code",
   "execution_count": 26,
   "metadata": {},
   "outputs": [],
   "source": [
    "f1_score_number = f1_score(Y_test, y_pred)"
   ]
  },
  {
   "cell_type": "markdown",
   "metadata": {},
   "source": [
    "Func for printing all the evaluate metrics"
   ]
  },
  {
   "cell_type": "code",
   "execution_count": 27,
   "metadata": {},
   "outputs": [],
   "source": [
    "def get_evaluate_metrics():\n",
    "    print(f'''\n",
    "        Precision Score of the fake class is: {precision_score_number}\n",
    "        Recall Score of the fake class is: {recall_score_number}\n",
    "        F1 Score of the fake class is: {f1_score_number}\n",
    "    ''')"
   ]
  },
  {
   "cell_type": "code",
   "execution_count": 28,
   "metadata": {},
   "outputs": [
    {
     "name": "stdout",
     "output_type": "stream",
     "text": [
      "\n",
      "        Precision Score of the fake class is: 0.8259179265658747\n",
      "        Recall Score of the fake class is: 0.4440315838365072\n",
      "        F1 Score of the fake class is: 0.5775562603836278\n",
      "    \n"
     ]
    }
   ],
   "source": [
    "get_evaluate_metrics()"
   ]
  },
  {
   "cell_type": "markdown",
   "metadata": {},
   "source": [
    "Precision-Recall Curve -> We are dealing with a imbalanced dataset, so the choice for using the Precision-Recall Curve is because it gives more importance to positive class. Thus is helpful for dealing with imbalanced data, which is our case for fake job postings. "
   ]
  },
  {
   "cell_type": "code",
   "execution_count": 29,
   "metadata": {},
   "outputs": [],
   "source": [
    "precision, recall, thresholds = precision_recall_curve(Y_test, y_pred)\n",
    "average_precision = average_precision_score(Y_test, y_pred)"
   ]
  },
  {
   "cell_type": "code",
   "execution_count": 30,
   "metadata": {},
   "outputs": [
    {
     "data": {
      "image/png": "[encoded data removed]",
      "text/plain": [
       "<Figure size 432x288 with 1 Axes>"
      ]
     },
     "metadata": {
      "needs_background": "light"
     },
     "output_type": "display_data"
    }
   ],
   "source": [
    "plt.figure()\n",
    "plt.step(recall, precision, where='post')\n",
    "plt.xlabel('Recall')\n",
    "plt.ylabel('Precision')\n",
    "plt.title(f'Precision-Recall Curve: AP={average_precision:.2f}')\n",
    "plt.show()"
   ]
  },
  {
   "cell_type": "code",
   "execution_count": 32,
   "metadata": {},
   "outputs": [
    {
     "name": "stderr",
     "output_type": "stream",
     "text": [
      "c:\\Users\\JoaoFelipeMoraisVasc\\AppData\\Local\\Programs\\Python\\Python310\\lib\\site-packages\\sklearn\\utils\\deprecation.py:87: FutureWarning: Function plot_roc_curve is deprecated; Function :func:`plot_roc_curve` is deprecated in 1.0 and will be removed in 1.2. Use one of the class methods: :meth:`sklearn.metric.RocCurveDisplay.from_predictions` or :meth:`sklearn.metric.RocCurveDisplay.from_estimator`.\n",
      "  warnings.warn(msg, category=FutureWarning)\n"
     ]
    },
    {
     "data": {
      "text/plain": [
       "<sklearn.metrics._plot.roc_curve.RocCurveDisplay at 0x26c0c2b2260>"
      ]
     },
     "execution_count": 32,
     "metadata": {},
     "output_type": "execute_result"
    },
    {
     "data": {
      "image/png": "[encoded data removed]",
      "text/plain": [
       "<Figure size 432x288 with 1 Axes>"
      ]
     },
     "metadata": {
      "needs_background": "light"
     },
     "output_type": "display_data"
    }
   ],
   "source": [
    "from sklearn.metrics import roc_curve, auc, plot_roc_curve\n",
    "fpr, tpr, threshold = roc_curve(Y_test, y_pred)\n",
    "roc_auc = auc(fpr, tpr)\n",
    "\n",
    "plot_roc_curve(logistic_regression, X_test, Y_test)"
   ]
  },
  {
   "cell_type": "markdown",
   "metadata": {},
   "source": [
    "### Final Report of our Model"
   ]
  },
  {
   "cell_type": "code",
   "execution_count": 33,
   "metadata": {},
   "outputs": [
    {
     "name": "stdout",
     "output_type": "stream",
     "text": [
      "              precision    recall  f1-score   support\n",
      "\n",
      "           0       0.61      0.90      0.73      4201\n",
      "           1       0.83      0.44      0.58      4306\n",
      "\n",
      "    accuracy                           0.67      8507\n",
      "   macro avg       0.72      0.67      0.65      8507\n",
      "weighted avg       0.72      0.67      0.65      8507\n",
      "\n"
     ]
    }
   ],
   "source": [
    "report = classification_report(Y_test, y_pred)\n",
    "print(report)"
   ]
  }
 ],
 "metadata": {
  "kernelspec": {
   "display_name": "Python 3.11.5 64-bit",
   "language": "python",
   "name": "python3"
  },
  "language_info": {
   "codemirror_mode": {
    "name": "ipython",
    "version": 3
   },
   "file_extension": ".py",
   "mimetype": "text/x-python",
   "name": "python",
   "nbconvert_exporter": "python",
   "pygments_lexer": "ipython3",
   "version": "3.10.0"
  },
  "orig_nbformat": 4,
  "vscode": {
   "interpreter": {
    "hash": "b0fa6594d8f4cbf19f97940f81e996739fb7646882a419484c72d19e05852a7e"
   }
  }
 },
 "nbformat": 4,
 "nbformat_minor": 2
}
