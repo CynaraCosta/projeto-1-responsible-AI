{
 "cells": [
  {
   "cell_type": "code",
   "execution_count": 12,
   "metadata": {},
   "outputs": [
    {
     "name": "stdout",
     "output_type": "stream",
     "text": [
      "Collecting imblearn\n",
      "  Obtaining dependency information for imblearn from https://files.pythonhosted.org/packages/81/a7/4179e6ebfd654bd0eac0b9c06125b8b4c96a9d0a8ff9e9507eb2a26d2d7e/imblearn-0.0-py2.py3-none-any.whl.metadata\n",
      "  Downloading imblearn-0.0-py2.py3-none-any.whl.metadata (355 bytes)\n",
      "Collecting imbalanced-learn (from imblearn)\n",
      "  Obtaining dependency information for imbalanced-learn from https://files.pythonhosted.org/packages/5a/fa/267de06c95210580f4b82b45cec1ce1e9ce1f21a01a684367db89e7da70d/imbalanced_learn-0.12.3-py3-none-any.whl.metadata\n",
      "  Downloading imbalanced_learn-0.12.3-py3-none-any.whl.metadata (8.3 kB)\n",
      "Requirement already satisfied: numpy>=1.17.3 in c:\\users\\joaofelipemoraisvasc\\appdata\\local\\programs\\python\\python310\\lib\\site-packages (from imbalanced-learn->imblearn) (1.23.5)\n",
      "Requirement already satisfied: scipy>=1.5.0 in c:\\users\\joaofelipemoraisvasc\\appdata\\local\\programs\\python\\python310\\lib\\site-packages (from imbalanced-learn->imblearn) (1.11.1)\n",
      "Requirement already satisfied: scikit-learn>=1.0.2 in c:\\users\\joaofelipemoraisvasc\\appdata\\local\\programs\\python\\python310\\lib\\site-packages (from imbalanced-learn->imblearn) (1.0.2)\n",
      "Collecting joblib>=1.1.1 (from imbalanced-learn->imblearn)\n",
      "  Obtaining dependency information for joblib>=1.1.1 from https://files.pythonhosted.org/packages/91/29/df4b9b42f2be0b623cbd5e2140cafcaa2bef0759a00b7b70104dcfe2fb51/joblib-1.4.2-py3-none-any.whl.metadata\n",
      "  Downloading joblib-1.4.2-py3-none-any.whl.metadata (5.4 kB)\n",
      "Requirement already satisfied: threadpoolctl>=2.0.0 in c:\\users\\joaofelipemoraisvasc\\appdata\\local\\programs\\python\\python310\\lib\\site-packages (from imbalanced-learn->imblearn) (3.1.0)\n",
      "Downloading imblearn-0.0-py2.py3-none-any.whl (1.9 kB)\n",
      "Downloading imbalanced_learn-0.12.3-py3-none-any.whl (258 kB)\n",
      "   -------------------------------------- 258.3/258.3 kB 691.0 kB/s eta 0:00:00\n",
      "Downloading joblib-1.4.2-py3-none-any.whl (301 kB)\n",
      "   -------------------------------------- 301.8/301.8 kB 889.0 kB/s eta 0:00:00\n",
      "Installing collected packages: joblib, imbalanced-learn, imblearn\n",
      "  Attempting uninstall: joblib\n",
      "    Found existing installation: joblib 1.1.0\n",
      "    Uninstalling joblib-1.1.0:\n",
      "      Successfully uninstalled joblib-1.1.0\n",
      "Successfully installed imbalanced-learn-0.12.3 imblearn-0.0 joblib-1.4.2\n",
      "Note: you may need to restart the kernel to use updated packages.\n"
     ]
    },
    {
     "name": "stderr",
     "output_type": "stream",
     "text": [
      "\n",
      "[notice] A new release of pip is available: 23.2.1 -> 24.0\n",
      "[notice] To update, run: python.exe -m pip install --upgrade pip\n"
     ]
    }
   ],
   "source": [
    "pip install imblearn"
   ]
  },
  {
   "cell_type": "code",
   "execution_count": 13,
   "metadata": {},
   "outputs": [],
   "source": [
    "import numpy as np\n",
    "import pandas as pd\n",
    "import matplotlib.pyplot as plt\n",
    "from sklearn.model_selection import train_test_split\n",
    "from sklearn.ensemble import RandomForestClassifier\n",
    "from sklearn.metrics import accuracy_score, classification_report, confusion_matrix, ConfusionMatrixDisplay\n",
    "from sklearn.inspection import permutation_importance\n",
    "from sklearn.metrics import precision_score\n",
    "from sklearn.metrics import recall_score\n",
    "from sklearn.metrics import f1_score\n",
    "from sklearn.metrics import precision_recall_curve\n",
    "from sklearn.metrics import average_precision_score\n",
    "from sklearn.metrics import classification_report\n",
    "from imblearn.over_sampling import SMOTE\n",
    "\n",
    "TREATED_DATASET = '../dataset/fake_job_word2vec.csv'"
   ]
  },
  {
   "cell_type": "code",
   "execution_count": 33,
   "metadata": {},
   "outputs": [],
   "source": [
    "import pickle\n",
    "\n",
    "# Carregar o DataFrame com pickle\n",
    "with open('../dataset/fake_job_word2vec.pkl', 'rb') as f:\n",
    "    data = pickle.load(f)"
   ]
  },
  {
   "cell_type": "code",
   "execution_count": 34,
   "metadata": {},
   "outputs": [
    {
     "data": {
      "text/html": [
       "<div>\n",
       "<style scoped>\n",
       "    .dataframe tbody tr th:only-of-type {\n",
       "        vertical-align: middle;\n",
       "    }\n",
       "\n",
       "    .dataframe tbody tr th {\n",
       "        vertical-align: top;\n",
       "    }\n",
       "\n",
       "    .dataframe thead th {\n",
       "        text-align: right;\n",
       "    }\n",
       "</style>\n",
       "<table border=\"1\" class=\"dataframe\">\n",
       "  <thead>\n",
       "    <tr style=\"text-align: right;\">\n",
       "      <th></th>\n",
       "      <th>telecommuting</th>\n",
       "      <th>has_company_logo</th>\n",
       "      <th>has_questions</th>\n",
       "      <th>fraudulent</th>\n",
       "      <th>salary_min</th>\n",
       "      <th>salary_max</th>\n",
       "      <th>employment_type_-</th>\n",
       "      <th>employment_type_Contract</th>\n",
       "      <th>employment_type_Full-time</th>\n",
       "      <th>employment_type_Other</th>\n",
       "      <th>...</th>\n",
       "      <th>required_education_Vocational - HS Diploma</th>\n",
       "      <th>title_vector</th>\n",
       "      <th>location_vector</th>\n",
       "      <th>department_vector</th>\n",
       "      <th>company_profile_vector</th>\n",
       "      <th>description_vector</th>\n",
       "      <th>requirements_vector</th>\n",
       "      <th>benefits_vector</th>\n",
       "      <th>industry_vector</th>\n",
       "      <th>function_vector</th>\n",
       "    </tr>\n",
       "  </thead>\n",
       "  <tbody>\n",
       "    <tr>\n",
       "      <th>0</th>\n",
       "      <td>0</td>\n",
       "      <td>1</td>\n",
       "      <td>0</td>\n",
       "      <td>0</td>\n",
       "      <td>0</td>\n",
       "      <td>0</td>\n",
       "      <td>0</td>\n",
       "      <td>0</td>\n",
       "      <td>0</td>\n",
       "      <td>1</td>\n",
       "      <td>...</td>\n",
       "      <td>0</td>\n",
       "      <td>0.247668</td>\n",
       "      <td>0.115215</td>\n",
       "      <td>0.244362</td>\n",
       "      <td>-0.009132</td>\n",
       "      <td>0.035534</td>\n",
       "      <td>0.031247</td>\n",
       "      <td>0.000000</td>\n",
       "      <td>0.000000</td>\n",
       "      <td>0.244362</td>\n",
       "    </tr>\n",
       "    <tr>\n",
       "      <th>1</th>\n",
       "      <td>0</td>\n",
       "      <td>1</td>\n",
       "      <td>0</td>\n",
       "      <td>0</td>\n",
       "      <td>0</td>\n",
       "      <td>0</td>\n",
       "      <td>0</td>\n",
       "      <td>0</td>\n",
       "      <td>1</td>\n",
       "      <td>0</td>\n",
       "      <td>...</td>\n",
       "      <td>0</td>\n",
       "      <td>-0.060168</td>\n",
       "      <td>0.102202</td>\n",
       "      <td>0.254773</td>\n",
       "      <td>-0.012521</td>\n",
       "      <td>0.004112</td>\n",
       "      <td>0.006893</td>\n",
       "      <td>0.013835</td>\n",
       "      <td>0.113106</td>\n",
       "      <td>-0.101499</td>\n",
       "    </tr>\n",
       "    <tr>\n",
       "      <th>2</th>\n",
       "      <td>0</td>\n",
       "      <td>1</td>\n",
       "      <td>0</td>\n",
       "      <td>0</td>\n",
       "      <td>0</td>\n",
       "      <td>0</td>\n",
       "      <td>1</td>\n",
       "      <td>0</td>\n",
       "      <td>0</td>\n",
       "      <td>0</td>\n",
       "      <td>...</td>\n",
       "      <td>0</td>\n",
       "      <td>0.069010</td>\n",
       "      <td>0.002190</td>\n",
       "      <td>0.000000</td>\n",
       "      <td>-0.023828</td>\n",
       "      <td>0.008513</td>\n",
       "      <td>-0.020861</td>\n",
       "      <td>0.000000</td>\n",
       "      <td>0.000000</td>\n",
       "      <td>0.000000</td>\n",
       "    </tr>\n",
       "    <tr>\n",
       "      <th>3</th>\n",
       "      <td>0</td>\n",
       "      <td>1</td>\n",
       "      <td>0</td>\n",
       "      <td>0</td>\n",
       "      <td>0</td>\n",
       "      <td>0</td>\n",
       "      <td>0</td>\n",
       "      <td>0</td>\n",
       "      <td>1</td>\n",
       "      <td>0</td>\n",
       "      <td>...</td>\n",
       "      <td>0</td>\n",
       "      <td>0.048156</td>\n",
       "      <td>0.061260</td>\n",
       "      <td>0.092472</td>\n",
       "      <td>0.000941</td>\n",
       "      <td>0.023731</td>\n",
       "      <td>0.036613</td>\n",
       "      <td>0.038574</td>\n",
       "      <td>-0.072177</td>\n",
       "      <td>0.092472</td>\n",
       "    </tr>\n",
       "    <tr>\n",
       "      <th>4</th>\n",
       "      <td>0</td>\n",
       "      <td>1</td>\n",
       "      <td>1</td>\n",
       "      <td>0</td>\n",
       "      <td>0</td>\n",
       "      <td>0</td>\n",
       "      <td>0</td>\n",
       "      <td>0</td>\n",
       "      <td>1</td>\n",
       "      <td>0</td>\n",
       "      <td>...</td>\n",
       "      <td>0</td>\n",
       "      <td>0.002881</td>\n",
       "      <td>0.038611</td>\n",
       "      <td>0.000000</td>\n",
       "      <td>-0.024219</td>\n",
       "      <td>-0.018626</td>\n",
       "      <td>0.028890</td>\n",
       "      <td>0.016103</td>\n",
       "      <td>-0.115658</td>\n",
       "      <td>-0.178535</td>\n",
       "    </tr>\n",
       "  </tbody>\n",
       "</table>\n",
       "<p>5 rows × 43 columns</p>\n",
       "</div>"
      ],
      "text/plain": [
       "   telecommuting  has_company_logo  has_questions  fraudulent  salary_min  \\\n",
       "0              0                 1              0           0           0   \n",
       "1              0                 1              0           0           0   \n",
       "2              0                 1              0           0           0   \n",
       "3              0                 1              0           0           0   \n",
       "4              0                 1              1           0           0   \n",
       "\n",
       "   salary_max  employment_type_-  employment_type_Contract  \\\n",
       "0           0                  0                         0   \n",
       "1           0                  0                         0   \n",
       "2           0                  1                         0   \n",
       "3           0                  0                         0   \n",
       "4           0                  0                         0   \n",
       "\n",
       "   employment_type_Full-time  employment_type_Other  ...  \\\n",
       "0                          0                      1  ...   \n",
       "1                          1                      0  ...   \n",
       "2                          0                      0  ...   \n",
       "3                          1                      0  ...   \n",
       "4                          1                      0  ...   \n",
       "\n",
       "   required_education_Vocational - HS Diploma  title_vector  location_vector  \\\n",
       "0                                           0      0.247668         0.115215   \n",
       "1                                           0     -0.060168         0.102202   \n",
       "2                                           0      0.069010         0.002190   \n",
       "3                                           0      0.048156         0.061260   \n",
       "4                                           0      0.002881         0.038611   \n",
       "\n",
       "   department_vector  company_profile_vector  description_vector  \\\n",
       "0           0.244362               -0.009132            0.035534   \n",
       "1           0.254773               -0.012521            0.004112   \n",
       "2           0.000000               -0.023828            0.008513   \n",
       "3           0.092472                0.000941            0.023731   \n",
       "4           0.000000               -0.024219           -0.018626   \n",
       "\n",
       "   requirements_vector  benefits_vector  industry_vector  function_vector  \n",
       "0             0.031247         0.000000         0.000000         0.244362  \n",
       "1             0.006893         0.013835         0.113106        -0.101499  \n",
       "2            -0.020861         0.000000         0.000000         0.000000  \n",
       "3             0.036613         0.038574        -0.072177         0.092472  \n",
       "4             0.028890         0.016103        -0.115658        -0.178535  \n",
       "\n",
       "[5 rows x 43 columns]"
      ]
     },
     "execution_count": 34,
     "metadata": {},
     "output_type": "execute_result"
    }
   ],
   "source": [
    "data.head()"
   ]
  },
  {
   "cell_type": "code",
   "execution_count": 10,
   "metadata": {},
   "outputs": [],
   "source": [
    "colums_to_drop = ['fraudulent']\n",
    "\n",
    "X = data.drop(columns=colums_to_drop)\n",
    "Y = data['fraudulent']"
   ]
  },
  {
   "cell_type": "code",
   "execution_count": 14,
   "metadata": {},
   "outputs": [],
   "source": [
    "sm = SMOTE(random_state=42, k_neighbors=5)\n",
    "X_res, y_res = sm.fit_resample(X, Y)"
   ]
  },
  {
   "cell_type": "code",
   "execution_count": 15,
   "metadata": {},
   "outputs": [],
   "source": [
    "X_train, X_test, Y_train, Y_test = train_test_split(X_res, y_res, test_size=0.25)"
   ]
  },
  {
   "cell_type": "markdown",
   "metadata": {},
   "source": [
    "### Random Forest"
   ]
  },
  {
   "cell_type": "code",
   "execution_count": 16,
   "metadata": {},
   "outputs": [],
   "source": [
    "rf = RandomForestClassifier().fit(X_train, Y_train)"
   ]
  },
  {
   "cell_type": "code",
   "execution_count": 22,
   "metadata": {},
   "outputs": [
    {
     "name": "stdout",
     "output_type": "stream",
     "text": [
      "has_company_logo                        0.179499\n",
      "company_profile_vector                  0.086798\n",
      "has_questions                           0.086426\n",
      "required_education_Bachelor's Degree    0.055481\n",
      "function_vector                         0.053094\n",
      "required_experience_Mid-Senior level    0.051199\n",
      "department_vector                       0.043267\n",
      "industry_vector                         0.042411\n",
      "benefits_vector                         0.035238\n",
      "location_vector                         0.031729\n",
      "dtype: float64\n"
     ]
    },
    {
     "data": {
      "image/png": "[encoded data removed]",
      "text/plain": [
       "<Figure size 432x288 with 1 Axes>"
      ]
     },
     "metadata": {
      "needs_background": "light"
     },
     "output_type": "display_data"
    }
   ],
   "source": [
    "from sklearn.inspection import permutation_importance\n",
    "import matplotlib.pyplot as plt\n",
    "\n",
    "result = permutation_importance(rf, X_test, Y_test,n_repeats=100, random_state=0)\n",
    "\n",
    "forest_importances = pd.Series(result.importances_mean, index=X.columns)\n",
    "\n",
    "forest_importances_sorted = forest_importances.sort_values(ascending=False)\n",
    "\n",
    "# Selecionar as 10 features mais importantes\n",
    "top_10_features = forest_importances_sorted.head(10)\n",
    "print(top_10_features)\n",
    "top_10_indices = [X_test.columns.get_loc(col) for col in top_10_features.index]\n",
    "top_10_std = result.importances_std[top_10_indices]\n",
    "\n",
    "# Plotar as 10 features mais importantes\n",
    "fig, ax = plt.subplots()\n",
    "top_10_features.plot.bar(yerr=top_10_std, ax=ax)\n",
    "ax.set_title(\"Feature importances using permutation on full model\")\n",
    "ax.set_ylabel(\"Mean accuracy decrease\")\n",
    "fig.tight_layout()\n",
    "plt.show()"
   ]
  },
  {
   "cell_type": "markdown",
   "metadata": {},
   "source": [
    "Confusion Matrix"
   ]
  },
  {
   "cell_type": "code",
   "execution_count": 23,
   "metadata": {},
   "outputs": [
    {
     "name": "stdout",
     "output_type": "stream",
     "text": [
      "Acurácia dos dados de teste:  0.9854237686611026\n",
      "\n"
     ]
    },
    {
     "data": {
      "image/png": "[encoded data removed]",
      "text/plain": [
       "<Figure size 432x288 with 2 Axes>"
      ]
     },
     "metadata": {
      "needs_background": "light"
     },
     "output_type": "display_data"
    }
   ],
   "source": [
    "y_pred = rf.predict(X_test)\n",
    "\n",
    "print(\"Acurácia dos dados de teste: \", accuracy_score(Y_test,y_pred))\n",
    "print()\n",
    "\n",
    "cm = confusion_matrix(Y_test, y_pred)\n",
    "\n",
    "disp = ConfusionMatrixDisplay(confusion_matrix=cm, display_labels=rf.classes_)\n",
    "\n",
    "disp.plot()\n",
    "\n",
    "plt.show()"
   ]
  },
  {
   "cell_type": "markdown",
   "metadata": {},
   "source": [
    "## Evaluation Metrics"
   ]
  },
  {
   "cell_type": "markdown",
   "metadata": {},
   "source": [
    "Precision"
   ]
  },
  {
   "cell_type": "code",
   "execution_count": 24,
   "metadata": {},
   "outputs": [],
   "source": [
    "precision_score_number = precision_score(Y_test, y_pred)"
   ]
  },
  {
   "cell_type": "markdown",
   "metadata": {},
   "source": [
    "Recall"
   ]
  },
  {
   "cell_type": "code",
   "execution_count": 25,
   "metadata": {},
   "outputs": [],
   "source": [
    "recall_score_number = recall_score(Y_test, y_pred)"
   ]
  },
  {
   "cell_type": "markdown",
   "metadata": {},
   "source": [
    "F1-Score"
   ]
  },
  {
   "cell_type": "code",
   "execution_count": 26,
   "metadata": {},
   "outputs": [],
   "source": [
    "f1_score_number = f1_score(Y_test, y_pred)"
   ]
  },
  {
   "cell_type": "markdown",
   "metadata": {},
   "source": [
    "Func for printing all the evaluate metrics"
   ]
  },
  {
   "cell_type": "code",
   "execution_count": 27,
   "metadata": {},
   "outputs": [],
   "source": [
    "def get_evaluate_metrics():\n",
    "    print(f'''\n",
    "        Precision Score of the fake class is: {precision_score_number}\n",
    "        Recall Score of the fake class is: {recall_score_number}\n",
    "        F1 Score of the fake class is: {f1_score_number}\n",
    "    ''')"
   ]
  },
  {
   "cell_type": "code",
   "execution_count": 28,
   "metadata": {},
   "outputs": [
    {
     "name": "stdout",
     "output_type": "stream",
     "text": [
      "\n",
      "        Precision Score of the fake class is: 0.979624913174346\n",
      "        Recall Score of the fake class is: 0.9915631591281932\n",
      "        F1 Score of the fake class is: 0.9855578849289541\n",
      "    \n"
     ]
    }
   ],
   "source": [
    "get_evaluate_metrics()"
   ]
  },
  {
   "cell_type": "markdown",
   "metadata": {},
   "source": [
    "Precision-Recall Curve -> We are dealing with a imbalanced dataset, so the choice for using the Precision-Recall Curve is because it gives more importance to positive class. Thus is helpful for dealing with imbalanced data, which is our case for fake job postings. "
   ]
  },
  {
   "cell_type": "code",
   "execution_count": 29,
   "metadata": {},
   "outputs": [],
   "source": [
    "precision, recall, thresholds = precision_recall_curve(Y_test, y_pred)\n",
    "average_precision = average_precision_score(Y_test, y_pred)"
   ]
  },
  {
   "cell_type": "code",
   "execution_count": 30,
   "metadata": {},
   "outputs": [
    {
     "data": {
      "image/png": "[encoded data removed]",
      "text/plain": [
       "<Figure size 432x288 with 1 Axes>"
      ]
     },
     "metadata": {
      "needs_background": "light"
     },
     "output_type": "display_data"
    }
   ],
   "source": [
    "plt.figure()\n",
    "plt.step(recall, precision, where='post')\n",
    "plt.xlabel('Recall')\n",
    "plt.ylabel('Precision')\n",
    "plt.title(f'Precision-Recall Curve: AP={average_precision:.2f}')\n",
    "plt.show()"
   ]
  },
  {
   "cell_type": "code",
   "execution_count": 31,
   "metadata": {},
   "outputs": [
    {
     "name": "stderr",
     "output_type": "stream",
     "text": [
      "c:\\Users\\JoaoFelipeMoraisVasc\\AppData\\Local\\Programs\\Python\\Python310\\lib\\site-packages\\sklearn\\utils\\deprecation.py:87: FutureWarning: Function plot_roc_curve is deprecated; Function :func:`plot_roc_curve` is deprecated in 1.0 and will be removed in 1.2. Use one of the class methods: :meth:`sklearn.metric.RocCurveDisplay.from_predictions` or :meth:`sklearn.metric.RocCurveDisplay.from_estimator`.\n",
      "  warnings.warn(msg, category=FutureWarning)\n"
     ]
    },
    {
     "data": {
      "text/plain": [
       "<sklearn.metrics._plot.roc_curve.RocCurveDisplay at 0x17809821c60>"
      ]
     },
     "execution_count": 31,
     "metadata": {},
     "output_type": "execute_result"
    },
    {
     "data": {
      "image/png": "[encoded data removed]",
      "text/plain": [
       "<Figure size 432x288 with 1 Axes>"
      ]
     },
     "metadata": {
      "needs_background": "light"
     },
     "output_type": "display_data"
    }
   ],
   "source": [
    "from sklearn.metrics import roc_curve, auc, plot_roc_curve\n",
    "fpr, tpr, threshold = roc_curve(Y_test, y_pred)\n",
    "roc_auc = auc(fpr, tpr)\n",
    "\n",
    "plot_roc_curve(rf, X_test, Y_test)"
   ]
  },
  {
   "cell_type": "markdown",
   "metadata": {},
   "source": [
    "### Final Report of our Model"
   ]
  },
  {
   "cell_type": "code",
   "execution_count": 32,
   "metadata": {},
   "outputs": [
    {
     "name": "stdout",
     "output_type": "stream",
     "text": [
      "              precision    recall  f1-score   support\n",
      "\n",
      "           0       0.99      0.98      0.99      4240\n",
      "           1       0.98      0.99      0.99      4267\n",
      "\n",
      "    accuracy                           0.99      8507\n",
      "   macro avg       0.99      0.99      0.99      8507\n",
      "weighted avg       0.99      0.99      0.99      8507\n",
      "\n"
     ]
    }
   ],
   "source": [
    "report = classification_report(Y_test, y_pred)\n",
    "print(report)"
   ]
  }
 ],
 "metadata": {
  "kernelspec": {
   "display_name": "Python 3.11.5 64-bit",
   "language": "python",
   "name": "python3"
  },
  "language_info": {
   "codemirror_mode": {
    "name": "ipython",
    "version": 3
   },
   "file_extension": ".py",
   "mimetype": "text/x-python",
   "name": "python",
   "nbconvert_exporter": "python",
   "pygments_lexer": "ipython3",
   "version": "3.10.0"
  },
  "orig_nbformat": 4,
  "vscode": {
   "interpreter": {
    "hash": "b0fa6594d8f4cbf19f97940f81e996739fb7646882a419484c72d19e05852a7e"
   }
  }
 },
 "nbformat": 4,
 "nbformat_minor": 2
}
